{
  "nbformat": 4,
  "nbformat_minor": 0,
  "metadata": {
    "colab": {
      "provenance": []
    },
    "kernelspec": {
      "name": "python3",
      "display_name": "Python 3"
    },
    "language_info": {
      "name": "python"
    }
  },
  "cells": [
    {
      "cell_type": "code",
      "execution_count": 35,
      "metadata": {
        "colab": {
          "base_uri": "https://localhost:8080/"
        },
        "id": "IgJFP5u0hh5O",
        "outputId": "77651464-7d05-4ad7-8449-6ef878490a13"
      },
      "outputs": [
        {
          "output_type": "execute_result",
          "data": {
            "text/plain": [
              "{'status': 'REQUEST_NOT_PROCESSED',\n",
              " 'responseTime': 0,\n",
              " 'message': ['Request could not be serviced, as the daily threshold for total number of requests allocated to the user with registration key  has been reached.'],\n",
              " 'Results': {}}"
            ]
          },
          "metadata": {},
          "execution_count": 35
        }
      ],
      "source": [
        "\n",
        "import requests\n",
        "import json\n",
        "import prettytable\n",
        "import pandas as pd\n",
        "from pandas import json_normalize\n",
        "\n",
        "\n",
        "headers = {'Content-type': 'application/json'}\n",
        "data = json.dumps({\"seriesid\": ['LNS11000000', 'LNS12000000', 'LNS13000000', 'LNS14000000', 'CES0000000001', 'CES0500000002', 'CES0500000007', 'CES0500000003', 'CES0500000008', 'CIU1010000000000A'],\"startyear\":\"2023\", \"endyear\":\"2024\"})\n",
        "p = requests.post('https://api.bls.gov/publicAPI/v2/timeseries/data/', data=data, headers=headers)\n",
        "json_data = json.loads(p.text)\n",
        "# json_data\n",
        "\n",
        "results = json_data['Results']['series']\n",
        "results = pd.DataFrame(results)\n",
        "# results\n",
        "\n",
        "if isinstance(results['data'].iloc[0], list):\n",
        "    new_df = pd.DataFrame(results['data'].sum())\n",
        "    final_df = pd.concat([results['seriesID'], new_df], axis=1)\n",
        "\n",
        "elif isinstance(results['data'].iloc[0], dict):\n",
        "    new_df = pd.json_normalize(results['data'])\n",
        "    final_df = pd.concat([results['seriesID'], new_df], axis=1)\n",
        "\n",
        "final_df = pd.DataFrame(final_df)\n",
        "final_df = final_df.drop(columns=['footnotes'])\n",
        "final_df = final_df.drop(columns=['period'])\n",
        "final_df\n",
        "final_df.to_csv('Data.csv', index=False)"
      ]
    },
    {
      "cell_type": "code",
      "source": [
        "# prompt: Using dataframe final_df: save df to csv named Data\n",
        "\n",
        "# Save the DataFrame to a CSV file named 'Data.csv'\n",
        "final_df.to_csv('Data.csv', index=False) # index=False prevents writing row indices to the file\n"
      ],
      "metadata": {
        "id": "JnNTHi5qi49R"
      },
      "execution_count": null,
      "outputs": []
    }
  ]
}